{
 "cells": [
  {
   "cell_type": "markdown",
   "id": "7a53b989-422c-4125-87a7-9bfebbb453bc",
   "metadata": {},
   "source": [
    "Q1) What is Abstraction in OOps? Explain with an example."
   ]
  },
  {
   "cell_type": "code",
   "execution_count": null,
   "id": "3aaf3c29-2f0b-42a3-8d89-af8f30ddd08c",
   "metadata": {},
   "outputs": [],
   "source": [
    "The process by which data and functions are defined in such a way that only essential details can be seen and unnecessary implementations are hidden is called\n",
    "Abstraction.\n",
    "\n",
    "Abstraction is really powerful for making complex tasks and codes simpler when used in Object-Oriented Programming. It reduces the complexity for the user by\n",
    "making the relevant part accessible and usable leaving the unnecessary code hidden. Also, there are times when we do not want to give out sensitive parts of our \n",
    "code implementation and this is where data abstraction can also prove to be very functional.\n",
    "\n",
    "From a programmer’s perspective, if we think about data abstraction, there is more to it than just hiding unnecessary information. One other way to think of \n",
    "abstraction is as synonymous with generalization. If, for instance, you wanted to create a program to multiply eight times seven, you wouldn't build an\n",
    "application to only multiply those two numbers.\n",
    "\n",
    "Instead, you'd create a program capable of multiplying any two numbers. To put it another way, abstraction is a way of thinking about a function's specific use as\n",
    "separate from its more generalized purpose. Thinking this way lets you create flexible, scalable, and adaptable functions and programs.\n",
    "\n",
    "Data Abstraction in Python can be achieved through creating abstract classes and inheriting them later. An abstract class in Python is typically created to \n",
    "declare a set of methods that must be created in any child class built on top of this abstract class. Similarly, an abstract method is one that doesn't have any\n",
    "implementation.\n",
    "\n",
    "from abc import ABC, abstractmethod\n",
    "\n",
    "class Shape(ABC):"
   ]
  },
  {
   "cell_type": "code",
   "execution_count": 2,
   "id": "41c44082-563e-4aab-a3f1-bfb3f8d8a2ed",
   "metadata": {},
   "outputs": [
    {
     "name": "stdout",
     "output_type": "stream",
     "text": [
      "Circle area: 314.0\n",
      "Rectangle area: 600\n"
     ]
    }
   ],
   "source": [
    "from abc import ABC, abstractmethod\n",
    "\n",
    "class Shape(ABC):\n",
    "    @abstractmethod\n",
    "    def area(self):\n",
    "        pass\n",
    "\n",
    "class Circle(Shape):\n",
    "    def __init__(self, radius):\n",
    "        self.radius = radius\n",
    "\n",
    "    def area(self):\n",
    "        return 3.14 * (self.radius ** 2)\n",
    "\n",
    "class Rectangle(Shape):\n",
    "    def __init__(self, length, width):\n",
    "        self.length = length\n",
    "        self.width = width\n",
    "\n",
    "    def area(self):\n",
    "        return self.length * self.width\n",
    "\n",
    "circle = Circle(10)\n",
    "rectangle = Rectangle(20, 30)\n",
    "\n",
    "print(\"Circle area:\", circle.area())\n",
    "print(\"Rectangle area:\", rectangle.area())"
   ]
  },
  {
   "cell_type": "code",
   "execution_count": null,
   "id": "9ba22769-d4ac-4d61-b58a-bc3223f13e71",
   "metadata": {},
   "outputs": [],
   "source": [
    "In this example, the Shape class is an abstract base class that is defined by inheriting from the ABC class. The area method in the Shape class is declared as an\n",
    "abstract method using the abstractmethod decorator. This means that the Shape class cannot be instantiated and must be subclassed.\n",
    "\n",
    "The Circle and Rectangle classes are concrete classes that inherit from the Shape class. These classes provide an implementation for the abstract area method, \n",
    "which calculates the area of their respective shapes.\n",
    "\n",
    "By declaring the Shape class as an abstract base class and providing an abstract method for calculating the area of a shape, the implementation details of the \n",
    "area method are hidden from the users of the Circle and Rectangle classes. The users only need to know about the area method to interact with the objects, and the\n",
    "underlying implementation details are abstracted away."
   ]
  },
  {
   "cell_type": "markdown",
   "id": "115f1c0c-315d-4803-856f-43da3ee0308c",
   "metadata": {},
   "source": [
    "Q2) Differentiate between Abstraction and Encapsulation. Explain with an example."
   ]
  },
  {
   "cell_type": "code",
   "execution_count": null,
   "id": "44e09de0-cdfe-49e7-9cc3-539858312edf",
   "metadata": {},
   "outputs": [],
   "source": [
    "Difference Between Abstraction and Encapsulation\n",
    "\n",
    "Definition : Abstraction is hiding the details and implementation of the code. Encapsulation is hiding the data and controlling the visibility of the code.\n",
    "\n",
    "Phase : Abstraction is a design level process. Encapsulation is an implementation level process.\n",
    "\n",
    "Pivotal Ability : Abstraction is concerned about what a class instance can do, instead of the implementation of the class. Encapsulation helps in data binding and\n",
    "control over maintaining the transparency of the data.\n",
    "\n",
    "Use Case : Abstraction is a design level process and it is used to reduce the complexity at the designing stage of a project. Encapsulation is an implementation\n",
    "level process, and it is used to provide privacy and maintain control over the transparency of data at the implementation stage of a project.\n",
    "\n",
    "How to Implement : Abstraction can be achieved using Abstract classes in Python. Encapsulation is also implemented using classes and the control over data privacy\n",
    "by making attributes and methods public,protected or private.\n",
    "\n",
    "Focus: The prominent difference between Encapsulation and Abstraction lies in the focus. Abstraction mainly focuses on what must be done, whereas encapsulation\n",
    "mainly focuses on how it must be done. Understanding this difference between Abstraction and Encapsulation in Python helps you to design solutions faster.\n",
    "\n",
    "Example:\n",
    "\n",
    "You can better understand Encapsulation vs Abstraction with an example. Abstraction is used in mobile phones’ GUI. When you click on the icons, abstraction allows\n",
    "them to perform specific functions. Let’s look at the encapsulation example to clarify the Encapsulation vs Abstraction. After the icon is clicked, the\n",
    "encapsulation works in the backend to guide the user on the next steps.\n",
    "\n",
    "Data representation:\n",
    "\n",
    "One significant difference between Abstraction and Encapsulation in Python is how they represent data. Abstraction represents only useful data, whereas \n",
    "encapsulation wraps data and codes for necessary information. Moreover, it helps developers to easily organize the whole code.\n",
    "\n",
    "Hiding:\n",
    "\n",
    "Abstraction provides you with a more abstract overview and thus hides the complexity. Encapsulation hides the internal working, which helps you to change it later.\n",
    "\n",
    "Program partition:\n",
    "\n",
    "Another key difference between Abstraction and Encapsulation in Python is the way programs are partitioned. Abstraction can partition the program into several\n",
    "distinct fragments whereas Encapsulation can be easily adapted to the new requirements.\n",
    "\n",
    "Problem-solving:\n",
    "\n",
    "Abstraction solves problems at the design level whereas Encapsulation does at the implementation level.\n",
    "\n",
    "How Abstraction and Encapsulation can solve real-world problems?\n",
    "\n",
    "The differences between Abstraction vs Encapsulation in Python are not just limited to the above points. You also need to understand how they solve real-world \n",
    "problems to accurately comprehend the difference between Abstraction and Encapsulation in Python.\n",
    "\n",
    "A real-world example of Abstraction:\n",
    "\n",
    "Firstly, we take an example of a banking application to understand Encapsulation vs Abstraction. Suppose you want to develop a banking application and are asked \n",
    "to gather all the details of your customer. You may gather some details that are irrelevant when developing a banking application. Hence, you have to choose only\n",
    "valuable information like name, address, tax info, etc. The process of fetching, removing, and selecting the customer information from a pool of data is called \n",
    "Abstraction.\n",
    "\n",
    "The information, once extracted, can be utilized for various applications. For example, you can use the same data for job portal applications, hospital\n",
    "applications, a Government database, etc. with slight or no amendment. Therefore, it works as your Master Data.\n",
    "\n",
    "A real-world example of Encapsulation:\n",
    "\n",
    "Let’s take an example of mobile devices to clarify the Abstraction vs Encapsulation in Python. Using smartphones, you can perform tasks like capturing photos, \n",
    "recording audio/video, listening to music, accessing the web, etc. These features are common in all smartphones. You don’t have to understand the internal working\n",
    "of these features.\n",
    "For example, you don’t need to know how your camera recognizes a human face in an image or how it calculates gamma correction. You simply need to learn the software \n",
    "interface. So, it is a real-world example of encapsulation.\n"
   ]
  },
  {
   "cell_type": "markdown",
   "id": "d93b1998-c6e3-4b25-a23a-d89eaac645d6",
   "metadata": {},
   "source": [
    "Q3) What is abc module in python? Why is it used?"
   ]
  },
  {
   "cell_type": "code",
   "execution_count": null,
   "id": "0f221b07-6080-45db-bcbd-6389f2324074",
   "metadata": {},
   "outputs": [],
   "source": [
    "The abc (Abstract Base Class) module in Python provides a way to define abstract base classes (ABCs). An abstract base class is a class that cannot be\n",
    "instantiated on its own, but is meant to be subclassed. Abstract base classes define a common interface that must be implemented by all of its concrete subclasses.\n",
    "\n",
    "The purpose of the abc module is to provide a way to define abstract classes in Python. It provides a way to define a common interface for a set of related\n",
    "classes, making it easier to maintain and change the implementation of those classes over time.\n",
    "\n",
    "The abc module provides a way to specify which methods must be implemented by subclasses, so that you can be sure that all concrete subclasses will provide the\n",
    "required behavior. Additionally, the abc module provides a way to register a concrete subclass as an implementation of an abstract base class, so that you can use\n",
    "isinstance() and issubclass() checks to determine the type of an object or the inheritance relationships between classes, respectively.\n",
    "\n",
    "Overall, the abc module is used to define abstract base classes in Python and provides a way to enforce a common interface for a set of related classes and thus\n",
    "achieve DATA ABSTRACTION."
   ]
  },
  {
   "cell_type": "code",
   "execution_count": 3,
   "id": "d5df5837-3e91-4012-bc56-aace7b7dde38",
   "metadata": {},
   "outputs": [
    {
     "name": "stdout",
     "output_type": "stream",
     "text": [
      "Circle area: 314.0\n",
      "Rectangle area: 600\n"
     ]
    }
   ],
   "source": [
    "from abc import ABC, abstractmethod\n",
    "\n",
    "class Shape(ABC):\n",
    "    @abstractmethod\n",
    "    def area(self):\n",
    "        pass\n",
    "\n",
    "class Circle(Shape):\n",
    "    def __init__(self, radius):\n",
    "        self.radius = radius\n",
    "\n",
    "    def area(self):\n",
    "        return 3.14 * (self.radius ** 2)\n",
    "\n",
    "class Rectangle(Shape):\n",
    "    def __init__(self, length, width):\n",
    "        self.length = length\n",
    "        self.width = width\n",
    "\n",
    "    def area(self):\n",
    "        return self.length * self.width\n",
    "\n",
    "circle = Circle(10)\n",
    "rectangle = Rectangle(20, 30)\n",
    "\n",
    "print(\"Circle area:\", circle.area())\n",
    "print(\"Rectangle area:\", rectangle.area())\n"
   ]
  },
  {
   "cell_type": "markdown",
   "id": "22a34a78-b12d-4890-a5fa-2016b8f24465",
   "metadata": {},
   "source": [
    "Q4) How can we achieve data abstraction?"
   ]
  },
  {
   "cell_type": "code",
   "execution_count": null,
   "id": "8f7660c4-c735-452b-8bc4-b73a8c402730",
   "metadata": {},
   "outputs": [],
   "source": [
    "There are two main ways to achieve abstraction in Python:\n",
    "\n",
    "Abstract Base Classes (ABCs): This is a mechanism provided by the abc module in Python, which allows you to define an abstract base class that cannot be \n",
    "instantiated. Subclasses of the abstract base class must provide implementations for the abstract methods defined in the base class. This helps to enforce an \n",
    "interface and to ensure that the subclasses are properly implemented.\n",
    "\n",
    "Encapsulation: This is a technique of wrapping data and functions that operate on the data within a single unit or object. Encapsulation provides a way to hide\n",
    "the internal details of an object and to expose only the methods and properties that are necessary for the user to interact with the object.\n",
    "\n",
    "Both abstract base classes and encapsulation can be used together to achieve abstraction in Python. For example, you can define an abstract base class to define\n",
    "an interface, and then you can use encapsulation to hide the implementation details of the concrete subclasses that implement the interface."
   ]
  },
  {
   "cell_type": "markdown",
   "id": "5af2de4b-6a31-4299-8602-f5a916a524af",
   "metadata": {},
   "source": [
    "Q5) Can we create an instance of an abstract class? Explain your answer."
   ]
  },
  {
   "cell_type": "code",
   "execution_count": null,
   "id": "79b3b798-adbf-47b4-8fe5-b827588ccba3",
   "metadata": {},
   "outputs": [],
   "source": [
    "No, you cannot create an instance of an abstract class in Python. An abstract class is intended to be a base class that cannot be instantiated on its own. \n",
    "Instead, you should define concrete subclasses that inherit from the abstract class and provide implementations for the abstract methods defined in the abstract \n",
    "class.\n",
    "\n",
    "In Python, you can define an abstract class using the abc module and marking the abstract methods with the @abstractmethod decorator. When you attempt to create \n",
    "an instance of an abstract class, you will receive a TypeError indicating that the abstract class cannot be instantiated directly."
   ]
  },
  {
   "cell_type": "code",
   "execution_count": 4,
   "id": "67e4c805-07a0-48eb-9972-d40e6817bcaa",
   "metadata": {},
   "outputs": [
    {
     "ename": "TypeError",
     "evalue": "Can't instantiate abstract class Shape with abstract method area",
     "output_type": "error",
     "traceback": [
      "\u001b[0;31m---------------------------------------------------------------------------\u001b[0m",
      "\u001b[0;31mTypeError\u001b[0m                                 Traceback (most recent call last)",
      "Cell \u001b[0;32mIn[4], line 11\u001b[0m\n\u001b[1;32m      7\u001b[0m         \u001b[38;5;28;01mpass\u001b[39;00m\n\u001b[1;32m      9\u001b[0m \u001b[38;5;66;03m# Attempting to create an instance of the abstract class\u001b[39;00m\n\u001b[1;32m     10\u001b[0m \u001b[38;5;66;03m# will result in a TypeError\u001b[39;00m\n\u001b[0;32m---> 11\u001b[0m shape \u001b[38;5;241m=\u001b[39m \u001b[43mShape\u001b[49m\u001b[43m(\u001b[49m\u001b[43m)\u001b[49m  \u001b[38;5;66;03m# TypeError: Can't instantiate abstract class Shape with abstract methods area\u001b[39;00m\n",
      "\u001b[0;31mTypeError\u001b[0m: Can't instantiate abstract class Shape with abstract method area"
     ]
    }
   ],
   "source": [
    "# Here's an example:\n",
    "from abc import ABC, abstractmethod\n",
    "\n",
    "class Shape(ABC):\n",
    "    @abstractmethod\n",
    "    def area(self):\n",
    "        pass\n",
    "\n",
    "# Attempting to create an instance of the abstract class\n",
    "# will result in a TypeError\n",
    "shape = Shape()  # TypeError: Can't instantiate abstract class Shape with abstract methods area"
   ]
  }
 ],
 "metadata": {
  "kernelspec": {
   "display_name": "Python 3 (ipykernel)",
   "language": "python",
   "name": "python3"
  },
  "language_info": {
   "codemirror_mode": {
    "name": "ipython",
    "version": 3
   },
   "file_extension": ".py",
   "mimetype": "text/x-python",
   "name": "python",
   "nbconvert_exporter": "python",
   "pygments_lexer": "ipython3",
   "version": "3.10.8"
  }
 },
 "nbformat": 4,
 "nbformat_minor": 5
}
